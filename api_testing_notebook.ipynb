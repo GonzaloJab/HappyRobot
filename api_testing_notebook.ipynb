{
  "cells": [
    {
      "cell_type": "markdown",
      "metadata": {},
      "source": [
        "# HappyRobot Load Management API Testing\n",
        "\n",
        "This notebook provides examples of how to interact with the HappyRobot backend API for load management.\n",
        "\n",
        "## Features:\n",
        "- Create new loads\n",
        "- Update existing loads\n",
        "- Assign loads (set status to agreed)\n",
        "- List all loads\n",
        "- Get specific load details\n",
        "- Delete loads\n",
        "\n",
        "## Prerequisites:\n",
        "- Backend running on port 8000\n",
        "- Valid API key (if authentication is enabled)\n"
      ]
    },
    {
      "cell_type": "code",
      "execution_count": null,
      "metadata": {},
      "outputs": [],
      "source": [
        "# Import required libraries\n",
        "import requests\n",
        "import json\n",
        "import pandas as pd\n",
        "from datetime import datetime, timedelta\n",
        "from typing import Dict, Any, Optional\n",
        "import uuid\n"
      ]
    },
    {
      "cell_type": "markdown",
      "metadata": {},
      "source": [
        "## Configuration\n",
        "\n",
        "Set your backend URL and API key here:\n"
      ]
    },
    {
      "cell_type": "code",
      "execution_count": null,
      "metadata": {},
      "outputs": [],
      "source": [
        "# Configuration\n",
        "BASE_URL = \"http://localhost:8000\"  # Change this to your backend URL\n",
        "API_KEY = \"your-api-key-here\"  # Replace with your actual API key\n",
        "\n",
        "# Headers for API requests\n",
        "headers = {\n",
        "    \"Content-Type\": \"application/json\",\n",
        "    \"Accept\": \"application/json\",\n",
        "    \"X-API-Key\": API_KEY  # API key header\n",
        "}\n",
        "\n",
        "print(f\"Backend URL: {BASE_URL}\")\n",
        "print(f\"API Key: {API_KEY[:10]}...\" if len(API_KEY) > 10 else f\"API Key: {API_KEY}\")\n"
      ]
    }
  ],
  "metadata": {
    "language_info": {
      "name": "python"
    }
  },
  "nbformat": 4,
  "nbformat_minor": 2
}
