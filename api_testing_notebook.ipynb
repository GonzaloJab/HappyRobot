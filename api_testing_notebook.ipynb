{
  "cells": [
    {
      "cell_type": "markdown",
      "metadata": {},
      "source": [
        "# HappyRobot Load Management API Testing\n",
        "\n",
        "This notebook provides examples of how to interact with the HappyRobot backend API for load management.\n",
        "\n",
        "## Features:\n",
        "- Create new loads\n",
        "- Update existing loads\n",
        "- Assign loads (set status to agreed)\n",
        "- List all loads\n",
        "- Get specific load details\n",
        "- Delete loads\n",
        "\n",
        "## Prerequisites:\n",
        "- Backend running on port 8000\n",
        "- Valid API key (if authentication is enabled)\n"
      ]
    },
    {
      "cell_type": "code",
      "execution_count": 1,
      "metadata": {},
      "outputs": [],
      "source": [
        "# Import required libraries\n",
        "import requests\n",
        "import json\n",
        "import pandas as pd\n",
        "from datetime import datetime, timedelta\n",
        "from typing import Dict, Any, Optional\n",
        "import uuid\n"
      ]
    },
    {
      "cell_type": "markdown",
      "metadata": {},
      "source": [
        "## Configuration\n",
        "\n",
        "Set your backend URL and API key here:\n"
      ]
    },
    {
      "cell_type": "code",
      "execution_count": 6,
      "metadata": {},
      "outputs": [
        {
          "name": "stdout",
          "output_type": "stream",
          "text": [
            "Backend URL: http://localhost:8000\n",
            "API Key: HapRob-OTV...\n"
          ]
        }
      ],
      "source": [
        "# Configuration\n",
        "BASE_URL = \"http://localhost:8000\"  # Change this to your backend URL\n",
        "API_KEY = \"HapRob-OTVHhErcXLu2eKkUMP6lDtrd8UNi61KZo4FvGALqem0NoJO1uWlz7OywCN0BNoNaG2x5Y\"  # Replace with your actual API key\n",
        "\n",
        "# Headers for API requests\n",
        "headers = {\n",
        "    \"Content-Type\": \"application/json\",\n",
        "    \"Accept\": \"application/json\",\n",
        "    \"X-API-Key\": API_KEY  # API key header\n",
        "}\n",
        "\n",
        "print(f\"Backend URL: {BASE_URL}\")\n",
        "print(f\"API Key: {API_KEY[:10]}...\" if len(API_KEY) > 10 else f\"API Key: {API_KEY}\")\n"
      ]
    },
    {
      "cell_type": "markdown",
      "metadata": {},
      "source": [
        "## Helper Functions\n"
      ]
    },
    {
      "cell_type": "code",
      "execution_count": 3,
      "metadata": {},
      "outputs": [],
      "source": [
        "def make_request(method: str, endpoint: str, data: Optional[Dict] = None) -> Dict[str, Any]:\n",
        "    \"\"\"\n",
        "    Make an API request to the backend\n",
        "    \n",
        "    Args:\n",
        "        method: HTTP method (GET, POST, PATCH, DELETE)\n",
        "        endpoint: API endpoint (e.g., '/shipments')\n",
        "        data: Request data for POST/PATCH requests\n",
        "    \n",
        "    Returns:\n",
        "        Response data as dictionary\n",
        "    \"\"\"\n",
        "    url = f\"{BASE_URL}{endpoint}\"\n",
        "    \n",
        "    try:\n",
        "        if method.upper() == \"GET\":\n",
        "            response = requests.get(url, headers=headers)\n",
        "        elif method.upper() == \"POST\":\n",
        "            response = requests.post(url, headers=headers, json=data)\n",
        "        elif method.upper() == \"PATCH\":\n",
        "            response = requests.patch(url, headers=headers, json=data)\n",
        "        elif method.upper() == \"DELETE\":\n",
        "            response = requests.delete(url, headers=headers)\n",
        "        else:\n",
        "            raise ValueError(f\"Unsupported HTTP method: {method}\")\n",
        "        \n",
        "        # Check if request was successful\n",
        "        if response.status_code in [200, 201, 204]:\n",
        "            if response.status_code == 204:  # No content\n",
        "                return {\"success\": True, \"message\": \"Operation completed successfully\"}\n",
        "            return {\"success\": True, \"data\": response.json()}\n",
        "        else:\n",
        "            return {\n",
        "                \"success\": False, \n",
        "                \"error\": f\"HTTP {response.status_code}\",\n",
        "                \"message\": response.text\n",
        "            }\n",
        "            \n",
        "    except requests.exceptions.RequestException as e:\n",
        "        return {\"success\": False, \"error\": \"Request failed\", \"message\": str(e)}\n",
        "\n",
        "def health_check() -> bool:\n",
        "    \"\"\"Check if the backend is healthy\"\"\"\n",
        "    result = make_request(\"GET\", \"/health\")\n",
        "    if result[\"success\"]:\n",
        "        print(\"✅ Backend is healthy\")\n",
        "        return True\n",
        "    else:\n",
        "        print(f\"❌ Backend health check failed: {result.get('message', 'Unknown error')}\")\n",
        "        return False\n",
        "\n",
        "def print_response(result: Dict[str, Any], title: str = \"Response\"):\n",
        "    \"\"\"Pretty print API response\"\"\"\n",
        "    print(f\"\\n{'='*50}\")\n",
        "    print(f\"{title}\")\n",
        "    print(f\"{'='*50}\")\n",
        "    \n",
        "    if result[\"success\"]:\n",
        "        print(\"✅ Success!\")\n",
        "        if \"data\" in result:\n",
        "            print(json.dumps(result[\"data\"], indent=2, default=str))\n",
        "        elif \"message\" in result:\n",
        "            print(result[\"message\"])\n",
        "    else:\n",
        "        print(\"❌ Failed!\")\n",
        "        print(f\"Error: {result.get('error', 'Unknown error')}\")\n",
        "        print(f\"Message: {result.get('message', 'No message')}\")\n",
        "    print(f\"{'='*50}\\n\")\n"
      ]
    },
    {
      "cell_type": "markdown",
      "metadata": {},
      "source": [
        "## 1. Health Check\n",
        "\n",
        "First, let's verify that the backend is running and accessible:\n"
      ]
    },
    {
      "cell_type": "code",
      "execution_count": 4,
      "metadata": {},
      "outputs": [
        {
          "name": "stdout",
          "output_type": "stream",
          "text": [
            "✅ Backend is healthy\n"
          ]
        },
        {
          "data": {
            "text/plain": [
              "True"
            ]
          },
          "execution_count": 4,
          "metadata": {},
          "output_type": "execute_result"
        }
      ],
      "source": [
        "# Check backend health\n",
        "health_check()\n"
      ]
    },
    {
      "cell_type": "markdown",
      "metadata": {},
      "source": [
        "## 2. Create a New Load\n",
        "\n",
        "Create a new load with all the required and optional fields:\n"
      ]
    },
    {
      "cell_type": "code",
      "execution_count": 8,
      "metadata": {},
      "outputs": [
        {
          "name": "stdout",
          "output_type": "stream",
          "text": [
            "Creating new load...\n",
            "Load ID: LD-NOTEBOOK-20250911-045201\n",
            "Route: Los Angeles, CA → New York, NY\n",
            "\n",
            "==================================================\n",
            "Create Load\n",
            "==================================================\n",
            "❌ Failed!\n",
            "Error: HTTP 401\n",
            "Message: {\"detail\":\"Invalid API key\"}\n",
            "==================================================\n",
            "\n"
          ]
        }
      ],
      "source": [
        "# Create a new load\n",
        "def create_load(load_data: Dict[str, Any]) -> Dict[str, Any]:\n",
        "    \"\"\"Create a new load\"\"\"\n",
        "    return make_request(\"POST\", \"/shipments\", load_data)\n",
        "\n",
        "# Example load data\n",
        "new_load = {\n",
        "    \"load_id\": f\"LD-NOTEBOOK-{datetime.now().strftime('%Y%m%d-%H%M%S')}\",\n",
        "    \"origin\": \"Los Angeles, CA\",\n",
        "    \"destination\": \"New York, NY\",\n",
        "    \"pickup_datetime\": (datetime.now() + timedelta(days=1)).isoformat() + \"Z\",\n",
        "    \"delivery_datetime\": (datetime.now() + timedelta(days=3)).isoformat() + \"Z\",\n",
        "    \"equipment_type\": \"Dry Van\",\n",
        "    \"loadboard_rate\": 2500.50,\n",
        "    \"weight\": 1500.0,\n",
        "    \"commodity_type\": \"Electronics\",\n",
        "    \"num_of_pieces\": 100,\n",
        "    \"miles\": 2800.0,\n",
        "    \"dimensions\": \"48x40x60 in\",\n",
        "    \"notes\": \"Created from Jupyter notebook - handle with care\"\n",
        "}\n",
        "\n",
        "print(\"Creating new load...\")\n",
        "print(f\"Load ID: {new_load['load_id']}\")\n",
        "print(f\"Route: {new_load['origin']} → {new_load['destination']}\")\n",
        "\n",
        "result = create_load(new_load)\n",
        "print_response(result, \"Create Load\")\n"
      ]
    },
    {
      "cell_type": "markdown",
      "metadata": {},
      "source": [
        "## 3. Assign a Load (Set Status to Agreed)\n",
        "\n",
        "This is the specific operation you requested - changing a load status to \"assigned\" (agreed) with the required agreed_price and carrier_description:\n"
      ]
    },
    {
      "cell_type": "code",
      "execution_count": null,
      "metadata": {},
      "outputs": [],
      "source": [
        "# First, let's get all loads to see what we have\n",
        "def get_all_loads() -> Dict[str, Any]:\n",
        "    \"\"\"Get all loads\"\"\"\n",
        "    return make_request(\"GET\", \"/shipments\")\n",
        "\n",
        "# Get all loads\n",
        "all_loads_result = get_all_loads()\n",
        "print_response(all_loads_result, \"All Loads\")\n",
        "\n",
        "# Find a load to assign (preferably one that's not already assigned)\n",
        "if all_loads_result[\"success\"] and all_loads_result[\"data\"]:\n",
        "    loads = all_loads_result[\"data\"]\n",
        "    \n",
        "    # Find a pending load to assign\n",
        "    pending_loads = [load for load in loads if load[\"status\"] == \"pending\"]\n",
        "    \n",
        "    if pending_loads:\n",
        "        load_to_assign = pending_loads[0]\n",
        "        print(f\"\\n🎯 Found load to assign: {load_to_assign['load_id']}\")\n",
        "        print(f\"   Route: {load_to_assign['origin']} → {load_to_assign['destination']}\")\n",
        "        print(f\"   Current status: {load_to_assign['status']}\")\n",
        "        \n",
        "        # Assign the load with required fields\n",
        "        assign_data = {\n",
        "            \"status\": \"agreed\",\n",
        "            \"agreed_price\": 2800.00,  # Required when status is agreed\n",
        "            \"carrier_description\": \"ABC Transport Co.\"  # Required when status is agreed\n",
        "        }\n",
        "        \n",
        "        print(f\"\\n📝 Assigning load with:\")\n",
        "        print(f\"   Agreed Price: ${assign_data['agreed_price']}\")\n",
        "        print(f\"   Carrier: {assign_data['carrier_description']}\")\n",
        "        \n",
        "        # Make the PATCH request to assign the load\n",
        "        assign_result = make_request(\"PATCH\", f\"/shipments/{load_to_assign['id']}\", assign_data)\n",
        "        print_response(assign_result, \"Assign Load\")\n",
        "        \n",
        "    else:\n",
        "        print(\"\\n⚠️ No pending loads found to assign\")\n",
        "        print(\"All loads are already assigned or no loads exist\")\n",
        "        \n",
        "        # Show current loads status\n",
        "        if loads:\n",
        "            print(\"\\n📊 Current loads status:\")\n",
        "            for load in loads:\n",
        "                print(f\"   {load['load_id']}: {load['status']}\")\n",
        "else:\n",
        "    print(\"❌ Could not retrieve loads\")\n"
      ]
    },
    {
      "cell_type": "markdown",
      "metadata": {},
      "source": [
        "## 4. Direct cURL Command for Assigning Loads\n",
        "\n",
        "Here's the exact cURL command you can use to assign a load:\n"
      ]
    },
    {
      "cell_type": "code",
      "execution_count": null,
      "metadata": {},
      "outputs": [],
      "source": [
        "# Generate the exact cURL command for assigning a load\n",
        "def generate_curl_command(load_id: str, agreed_price: float, carrier_description: str):\n",
        "    \"\"\"Generate cURL command for assigning a load\"\"\"\n",
        "    \n",
        "    curl_command = f'''curl -X PATCH \"http://localhost:8000/shipments/{load_id}\" \\\\\n",
        "  -H \"Content-Type: application/json\" \\\\\n",
        "  -H \"X-API-Key: {API_KEY}\" \\\\\n",
        "  -d '{{\n",
        "    \"status\": \"agreed\",\n",
        "    \"agreed_price\": {agreed_price},\n",
        "    \"carrier_description\": \"{carrier_description}\"\n",
        "  }}' '''\n",
        "    \n",
        "    return curl_command\n",
        "\n",
        "# Example: If you have a specific load ID, use this\n",
        "example_load_id = \"your-load-uuid-here\"  # Replace with actual load ID\n",
        "example_agreed_price = 2800.00\n",
        "example_carrier = \"ABC Transport Co.\"\n",
        "\n",
        "print(\"🔧 cURL Command for Assigning a Load:\")\n",
        "print(\"=\" * 60)\n",
        "print(generate_curl_command(example_load_id, example_agreed_price, example_carrier))\n",
        "print(\"=\" * 60)\n",
        "\n",
        "print(\"\\n📝 Instructions:\")\n",
        "print(\"1. Replace 'your-load-uuid-here' with the actual load ID\")\n",
        "print(\"2. Adjust the agreed_price and carrier_description as needed\")\n",
        "print(\"3. Run the command in your terminal\")\n",
        "\n",
        "# If we have a real load from the previous cell, show the actual command\n",
        "if 'load_to_assign' in locals():\n",
        "    print(f\"\\n🎯 Actual cURL command for load {load_to_assign['load_id']}:\")\n",
        "    print(\"=\" * 60)\n",
        "    actual_curl = generate_curl_command(\n",
        "        load_to_assign['id'], \n",
        "        2800.00, \n",
        "        \"ABC Transport Co.\"\n",
        "    )\n",
        "    print(actual_curl)\n",
        "    print(\"=\" * 60)\n"
      ]
    }
  ],
  "metadata": {
    "kernelspec": {
      "display_name": "APP",
      "language": "python",
      "name": "python3"
    },
    "language_info": {
      "codemirror_mode": {
        "name": "ipython",
        "version": 3
      },
      "file_extension": ".py",
      "mimetype": "text/x-python",
      "name": "python",
      "nbconvert_exporter": "python",
      "pygments_lexer": "ipython3",
      "version": "3.9.20"
    }
  },
  "nbformat": 4,
  "nbformat_minor": 2
}
